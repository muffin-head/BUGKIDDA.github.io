{
  "nbformat": 4,
  "nbformat_minor": 0,
  "metadata": {
    "colab": {
      "name": "Untitled9.ipynb",
      "provenance": [],
      "authorship_tag": "ABX9TyMOyGz/lNn1bENr07IUTk8P",
      "include_colab_link": true
    },
    "kernelspec": {
      "name": "python3",
      "display_name": "Python 3"
    },
    "language_info": {
      "name": "python"
    },
    "widgets": {
      "application/vnd.jupyter.widget-state+json": {
        "8d69611439264eb3aeaf2ea98f4aa074": {
          "model_module": "@jupyter-widgets/controls",
          "model_name": "HBoxModel",
          "state": {
            "_view_name": "HBoxView",
            "_dom_classes": [],
            "_model_name": "HBoxModel",
            "_view_module": "@jupyter-widgets/controls",
            "_model_module_version": "1.5.0",
            "_view_count": null,
            "_view_module_version": "1.5.0",
            "box_style": "",
            "layout": "IPY_MODEL_9c87c56847034d2dbd0753f687202d23",
            "_model_module": "@jupyter-widgets/controls",
            "children": [
              "IPY_MODEL_f58bc0984b63422ba32330a7ea2a1496",
              "IPY_MODEL_bda923059f0e4dc9b481d1f94c697fb3"
            ]
          }
        },
        "9c87c56847034d2dbd0753f687202d23": {
          "model_module": "@jupyter-widgets/base",
          "model_name": "LayoutModel",
          "state": {
            "_view_name": "LayoutView",
            "grid_template_rows": null,
            "right": null,
            "justify_content": null,
            "_view_module": "@jupyter-widgets/base",
            "overflow": null,
            "_model_module_version": "1.2.0",
            "_view_count": null,
            "flex_flow": null,
            "width": null,
            "min_width": null,
            "border": null,
            "align_items": null,
            "bottom": null,
            "_model_module": "@jupyter-widgets/base",
            "top": null,
            "grid_column": null,
            "overflow_y": null,
            "overflow_x": null,
            "grid_auto_flow": null,
            "grid_area": null,
            "grid_template_columns": null,
            "flex": null,
            "_model_name": "LayoutModel",
            "justify_items": null,
            "grid_row": null,
            "max_height": null,
            "align_content": null,
            "visibility": null,
            "align_self": null,
            "height": null,
            "min_height": null,
            "padding": null,
            "grid_auto_rows": null,
            "grid_gap": null,
            "max_width": null,
            "order": null,
            "_view_module_version": "1.2.0",
            "grid_template_areas": null,
            "object_position": null,
            "object_fit": null,
            "grid_auto_columns": null,
            "margin": null,
            "display": null,
            "left": null
          }
        },
        "f58bc0984b63422ba32330a7ea2a1496": {
          "model_module": "@jupyter-widgets/controls",
          "model_name": "FloatProgressModel",
          "state": {
            "_view_name": "ProgressView",
            "style": "IPY_MODEL_b3250f8651ed4d20a0fe7e225b092d12",
            "_dom_classes": [],
            "description": "100%",
            "_model_name": "FloatProgressModel",
            "bar_style": "success",
            "max": 87306240,
            "_view_module": "@jupyter-widgets/controls",
            "_model_module_version": "1.5.0",
            "value": 87306240,
            "_view_count": null,
            "_view_module_version": "1.5.0",
            "orientation": "horizontal",
            "min": 0,
            "description_tooltip": null,
            "_model_module": "@jupyter-widgets/controls",
            "layout": "IPY_MODEL_8242c617b7f6485e972b9f899c1c62ff"
          }
        },
        "bda923059f0e4dc9b481d1f94c697fb3": {
          "model_module": "@jupyter-widgets/controls",
          "model_name": "HTMLModel",
          "state": {
            "_view_name": "HTMLView",
            "style": "IPY_MODEL_cbc2f26d05fe4c3cae023fb0cb98b1db",
            "_dom_classes": [],
            "description": "",
            "_model_name": "HTMLModel",
            "placeholder": "​",
            "_view_module": "@jupyter-widgets/controls",
            "_model_module_version": "1.5.0",
            "value": " 83.3M/83.3M [00:00&lt;00:00, 89.8MB/s]",
            "_view_count": null,
            "_view_module_version": "1.5.0",
            "description_tooltip": null,
            "_model_module": "@jupyter-widgets/controls",
            "layout": "IPY_MODEL_95d706b389ce43528c525280a59f8816"
          }
        },
        "b3250f8651ed4d20a0fe7e225b092d12": {
          "model_module": "@jupyter-widgets/controls",
          "model_name": "ProgressStyleModel",
          "state": {
            "_view_name": "StyleView",
            "_model_name": "ProgressStyleModel",
            "description_width": "initial",
            "_view_module": "@jupyter-widgets/base",
            "_model_module_version": "1.5.0",
            "_view_count": null,
            "_view_module_version": "1.2.0",
            "bar_color": null,
            "_model_module": "@jupyter-widgets/controls"
          }
        },
        "8242c617b7f6485e972b9f899c1c62ff": {
          "model_module": "@jupyter-widgets/base",
          "model_name": "LayoutModel",
          "state": {
            "_view_name": "LayoutView",
            "grid_template_rows": null,
            "right": null,
            "justify_content": null,
            "_view_module": "@jupyter-widgets/base",
            "overflow": null,
            "_model_module_version": "1.2.0",
            "_view_count": null,
            "flex_flow": null,
            "width": null,
            "min_width": null,
            "border": null,
            "align_items": null,
            "bottom": null,
            "_model_module": "@jupyter-widgets/base",
            "top": null,
            "grid_column": null,
            "overflow_y": null,
            "overflow_x": null,
            "grid_auto_flow": null,
            "grid_area": null,
            "grid_template_columns": null,
            "flex": null,
            "_model_name": "LayoutModel",
            "justify_items": null,
            "grid_row": null,
            "max_height": null,
            "align_content": null,
            "visibility": null,
            "align_self": null,
            "height": null,
            "min_height": null,
            "padding": null,
            "grid_auto_rows": null,
            "grid_gap": null,
            "max_width": null,
            "order": null,
            "_view_module_version": "1.2.0",
            "grid_template_areas": null,
            "object_position": null,
            "object_fit": null,
            "grid_auto_columns": null,
            "margin": null,
            "display": null,
            "left": null
          }
        },
        "cbc2f26d05fe4c3cae023fb0cb98b1db": {
          "model_module": "@jupyter-widgets/controls",
          "model_name": "DescriptionStyleModel",
          "state": {
            "_view_name": "StyleView",
            "_model_name": "DescriptionStyleModel",
            "description_width": "",
            "_view_module": "@jupyter-widgets/base",
            "_model_module_version": "1.5.0",
            "_view_count": null,
            "_view_module_version": "1.2.0",
            "_model_module": "@jupyter-widgets/controls"
          }
        },
        "95d706b389ce43528c525280a59f8816": {
          "model_module": "@jupyter-widgets/base",
          "model_name": "LayoutModel",
          "state": {
            "_view_name": "LayoutView",
            "grid_template_rows": null,
            "right": null,
            "justify_content": null,
            "_view_module": "@jupyter-widgets/base",
            "overflow": null,
            "_model_module_version": "1.2.0",
            "_view_count": null,
            "flex_flow": null,
            "width": null,
            "min_width": null,
            "border": null,
            "align_items": null,
            "bottom": null,
            "_model_module": "@jupyter-widgets/base",
            "top": null,
            "grid_column": null,
            "overflow_y": null,
            "overflow_x": null,
            "grid_auto_flow": null,
            "grid_area": null,
            "grid_template_columns": null,
            "flex": null,
            "_model_name": "LayoutModel",
            "justify_items": null,
            "grid_row": null,
            "max_height": null,
            "align_content": null,
            "visibility": null,
            "align_self": null,
            "height": null,
            "min_height": null,
            "padding": null,
            "grid_auto_rows": null,
            "grid_gap": null,
            "max_width": null,
            "order": null,
            "_view_module_version": "1.2.0",
            "grid_template_areas": null,
            "object_position": null,
            "object_fit": null,
            "grid_auto_columns": null,
            "margin": null,
            "display": null,
            "left": null
          }
        },
        "36a9a3987e6d4fb9aac1a8ff6458fc4f": {
          "model_module": "@jupyter-widgets/controls",
          "model_name": "VBoxModel",
          "state": {
            "_view_name": "VBoxView",
            "_dom_classes": [],
            "_model_name": "VBoxModel",
            "_view_module": "@jupyter-widgets/controls",
            "_model_module_version": "1.5.0",
            "_view_count": null,
            "_view_module_version": "1.5.0",
            "box_style": "",
            "layout": "IPY_MODEL_af51bada10b24dabb3bfc4967d55e92b",
            "_model_module": "@jupyter-widgets/controls",
            "children": [
              "IPY_MODEL_1a08ae866c34406886d5fc7b1bcb3fa7",
              "IPY_MODEL_9556b9cc143549529c77f8d838ec9d81",
              "IPY_MODEL_eed48c681d1342b8b4c9cff16122fd7f",
              "IPY_MODEL_db658f45c12840548c012b157b3d6168"
            ]
          }
        },
        "af51bada10b24dabb3bfc4967d55e92b": {
          "model_module": "@jupyter-widgets/base",
          "model_name": "LayoutModel",
          "state": {
            "_view_name": "LayoutView",
            "grid_template_rows": null,
            "right": null,
            "justify_content": null,
            "_view_module": "@jupyter-widgets/base",
            "overflow": null,
            "_model_module_version": "1.2.0",
            "_view_count": null,
            "flex_flow": null,
            "width": null,
            "min_width": null,
            "border": null,
            "align_items": null,
            "bottom": null,
            "_model_module": "@jupyter-widgets/base",
            "top": null,
            "grid_column": null,
            "overflow_y": null,
            "overflow_x": null,
            "grid_auto_flow": null,
            "grid_area": null,
            "grid_template_columns": null,
            "flex": null,
            "_model_name": "LayoutModel",
            "justify_items": null,
            "grid_row": null,
            "max_height": null,
            "align_content": null,
            "visibility": null,
            "align_self": null,
            "height": null,
            "min_height": null,
            "padding": null,
            "grid_auto_rows": null,
            "grid_gap": null,
            "max_width": null,
            "order": null,
            "_view_module_version": "1.2.0",
            "grid_template_areas": null,
            "object_position": null,
            "object_fit": null,
            "grid_auto_columns": null,
            "margin": null,
            "display": null,
            "left": null
          }
        },
        "1a08ae866c34406886d5fc7b1bcb3fa7": {
          "model_module": "@jupyter-widgets/controls",
          "model_name": "LabelModel",
          "state": {
            "_view_name": "LabelView",
            "style": "IPY_MODEL_87183a3196054101a8048095bcd74274",
            "_dom_classes": [],
            "description": "",
            "_model_name": "LabelModel",
            "placeholder": "​",
            "_view_module": "@jupyter-widgets/controls",
            "_model_module_version": "1.5.0",
            "value": "Select your car!",
            "_view_count": null,
            "_view_module_version": "1.5.0",
            "description_tooltip": null,
            "_model_module": "@jupyter-widgets/controls",
            "layout": "IPY_MODEL_8670d7eee12849edbfbf3ddbd18391f2"
          }
        },
        "9556b9cc143549529c77f8d838ec9d81": {
          "model_module": "@jupyter-widgets/controls",
          "model_name": "FileUploadModel",
          "state": {
            "_view_name": "FileUploadView",
            "_counter": 1,
            "style": "IPY_MODEL_004ec11492774745b8877166bc19e646",
            "_dom_classes": [],
            "description": "Upload",
            "multiple": false,
            "_model_name": "FileUploadModel",
            "data": [
              null
            ],
            "button_style": "",
            "_view_module": "@jupyter-widgets/controls",
            "_model_module_version": "1.5.0",
            "accept": "",
            "_view_count": null,
            "disabled": false,
            "_view_module_version": "1.5.0",
            "error": "",
            "description_tooltip": null,
            "metadata": [
              {
                "name": "media-handler.php.jpeg",
                "type": "image/jpeg",
                "size": 167627,
                "lastModified": 1620563100286
              }
            ],
            "_model_module": "@jupyter-widgets/controls",
            "layout": "IPY_MODEL_396096cadd7d4787bedefb7ddd59c7cb",
            "icon": "upload"
          }
        },
        "eed48c681d1342b8b4c9cff16122fd7f": {
          "model_module": "@jupyter-widgets/output",
          "model_name": "OutputModel",
          "state": {
            "_view_name": "OutputView",
            "msg_id": "",
            "_dom_classes": [],
            "_model_name": "OutputModel",
            "outputs": [
              {
                "output_type": "display_data",
                "metadata": {
                  "tags": []
                },
                "image/png": "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\n",
                "text/plain": "<PIL.Image.Image image mode=RGB size=244x183 at 0x7F5269FC6ED0>"
              }
            ],
            "_view_module": "@jupyter-widgets/output",
            "_model_module_version": "1.0.0",
            "_view_count": null,
            "_view_module_version": "1.0.0",
            "layout": "IPY_MODEL_eb097842f57d4570b906f04392d2782d",
            "_model_module": "@jupyter-widgets/output"
          }
        },
        "db658f45c12840548c012b157b3d6168": {
          "model_module": "@jupyter-widgets/controls",
          "model_name": "LabelModel",
          "state": {
            "_view_name": "LabelView",
            "style": "IPY_MODEL_28e832d3e69f4c798199f52ee4678638",
            "_dom_classes": [],
            "description": "",
            "_model_name": "LabelModel",
            "placeholder": "​",
            "_view_module": "@jupyter-widgets/controls",
            "_model_module_version": "1.5.0",
            "value": "Prediction: nano; Probability: 1.0000",
            "_view_count": null,
            "_view_module_version": "1.5.0",
            "description_tooltip": null,
            "_model_module": "@jupyter-widgets/controls",
            "layout": "IPY_MODEL_3d74163cb89745f08194ccc83f5c9d0b"
          }
        },
        "87183a3196054101a8048095bcd74274": {
          "model_module": "@jupyter-widgets/controls",
          "model_name": "DescriptionStyleModel",
          "state": {
            "_view_name": "StyleView",
            "_model_name": "DescriptionStyleModel",
            "description_width": "",
            "_view_module": "@jupyter-widgets/base",
            "_model_module_version": "1.5.0",
            "_view_count": null,
            "_view_module_version": "1.2.0",
            "_model_module": "@jupyter-widgets/controls"
          }
        },
        "8670d7eee12849edbfbf3ddbd18391f2": {
          "model_module": "@jupyter-widgets/base",
          "model_name": "LayoutModel",
          "state": {
            "_view_name": "LayoutView",
            "grid_template_rows": null,
            "right": null,
            "justify_content": null,
            "_view_module": "@jupyter-widgets/base",
            "overflow": null,
            "_model_module_version": "1.2.0",
            "_view_count": null,
            "flex_flow": null,
            "width": null,
            "min_width": null,
            "border": null,
            "align_items": null,
            "bottom": null,
            "_model_module": "@jupyter-widgets/base",
            "top": null,
            "grid_column": null,
            "overflow_y": null,
            "overflow_x": null,
            "grid_auto_flow": null,
            "grid_area": null,
            "grid_template_columns": null,
            "flex": null,
            "_model_name": "LayoutModel",
            "justify_items": null,
            "grid_row": null,
            "max_height": null,
            "align_content": null,
            "visibility": null,
            "align_self": null,
            "height": null,
            "min_height": null,
            "padding": null,
            "grid_auto_rows": null,
            "grid_gap": null,
            "max_width": null,
            "order": null,
            "_view_module_version": "1.2.0",
            "grid_template_areas": null,
            "object_position": null,
            "object_fit": null,
            "grid_auto_columns": null,
            "margin": null,
            "display": null,
            "left": null
          }
        },
        "004ec11492774745b8877166bc19e646": {
          "model_module": "@jupyter-widgets/controls",
          "model_name": "ButtonStyleModel",
          "state": {
            "_view_name": "StyleView",
            "_model_name": "ButtonStyleModel",
            "_view_module": "@jupyter-widgets/base",
            "_model_module_version": "1.5.0",
            "_view_count": null,
            "button_color": null,
            "font_weight": "",
            "_view_module_version": "1.2.0",
            "_model_module": "@jupyter-widgets/controls"
          }
        },
        "396096cadd7d4787bedefb7ddd59c7cb": {
          "model_module": "@jupyter-widgets/base",
          "model_name": "LayoutModel",
          "state": {
            "_view_name": "LayoutView",
            "grid_template_rows": null,
            "right": null,
            "justify_content": null,
            "_view_module": "@jupyter-widgets/base",
            "overflow": null,
            "_model_module_version": "1.2.0",
            "_view_count": null,
            "flex_flow": null,
            "width": null,
            "min_width": null,
            "border": null,
            "align_items": null,
            "bottom": null,
            "_model_module": "@jupyter-widgets/base",
            "top": null,
            "grid_column": null,
            "overflow_y": null,
            "overflow_x": null,
            "grid_auto_flow": null,
            "grid_area": null,
            "grid_template_columns": null,
            "flex": null,
            "_model_name": "LayoutModel",
            "justify_items": null,
            "grid_row": null,
            "max_height": null,
            "align_content": null,
            "visibility": null,
            "align_self": null,
            "height": null,
            "min_height": null,
            "padding": null,
            "grid_auto_rows": null,
            "grid_gap": null,
            "max_width": null,
            "order": null,
            "_view_module_version": "1.2.0",
            "grid_template_areas": null,
            "object_position": null,
            "object_fit": null,
            "grid_auto_columns": null,
            "margin": null,
            "display": null,
            "left": null
          }
        },
        "28e832d3e69f4c798199f52ee4678638": {
          "model_module": "@jupyter-widgets/controls",
          "model_name": "DescriptionStyleModel",
          "state": {
            "_view_name": "StyleView",
            "_model_name": "DescriptionStyleModel",
            "description_width": "",
            "_view_module": "@jupyter-widgets/base",
            "_model_module_version": "1.5.0",
            "_view_count": null,
            "_view_module_version": "1.2.0",
            "_model_module": "@jupyter-widgets/controls"
          }
        },
        "3d74163cb89745f08194ccc83f5c9d0b": {
          "model_module": "@jupyter-widgets/base",
          "model_name": "LayoutModel",
          "state": {
            "_view_name": "LayoutView",
            "grid_template_rows": null,
            "right": null,
            "justify_content": null,
            "_view_module": "@jupyter-widgets/base",
            "overflow": null,
            "_model_module_version": "1.2.0",
            "_view_count": null,
            "flex_flow": null,
            "width": null,
            "min_width": null,
            "border": null,
            "align_items": null,
            "bottom": null,
            "_model_module": "@jupyter-widgets/base",
            "top": null,
            "grid_column": null,
            "overflow_y": null,
            "overflow_x": null,
            "grid_auto_flow": null,
            "grid_area": null,
            "grid_template_columns": null,
            "flex": null,
            "_model_name": "LayoutModel",
            "justify_items": null,
            "grid_row": null,
            "max_height": null,
            "align_content": null,
            "visibility": null,
            "align_self": null,
            "height": null,
            "min_height": null,
            "padding": null,
            "grid_auto_rows": null,
            "grid_gap": null,
            "max_width": null,
            "order": null,
            "_view_module_version": "1.2.0",
            "grid_template_areas": null,
            "object_position": null,
            "object_fit": null,
            "grid_auto_columns": null,
            "margin": null,
            "display": null,
            "left": null
          }
        },
        "eb097842f57d4570b906f04392d2782d": {
          "model_module": "@jupyter-widgets/base",
          "model_name": "LayoutModel",
          "state": {
            "_view_name": "LayoutView",
            "grid_template_rows": null,
            "right": null,
            "justify_content": null,
            "_view_module": "@jupyter-widgets/base",
            "overflow": null,
            "_model_module_version": "1.2.0",
            "_view_count": null,
            "flex_flow": null,
            "width": null,
            "min_width": null,
            "border": null,
            "align_items": null,
            "bottom": null,
            "_model_module": "@jupyter-widgets/base",
            "top": null,
            "grid_column": null,
            "overflow_y": null,
            "overflow_x": null,
            "grid_auto_flow": null,
            "grid_area": null,
            "grid_template_columns": null,
            "flex": null,
            "_model_name": "LayoutModel",
            "justify_items": null,
            "grid_row": null,
            "max_height": null,
            "align_content": null,
            "visibility": null,
            "align_self": null,
            "height": null,
            "min_height": null,
            "padding": null,
            "grid_auto_rows": null,
            "grid_gap": null,
            "max_width": null,
            "order": null,
            "_view_module_version": "1.2.0",
            "grid_template_areas": null,
            "object_position": null,
            "object_fit": null,
            "grid_auto_columns": null,
            "margin": null,
            "display": null,
            "left": null
          }
        }
      }
    }
  },
  "cells": [
    {
      "cell_type": "markdown",
      "metadata": {
        "id": "view-in-github",
        "colab_type": "text"
      },
      "source": [
        "<a href=\"https://colab.research.google.com/github/muffin-head/BUGKIDDA.github.io/blob/main/Untitled9.ipynb\" target=\"_parent\"><img src=\"https://colab.research.google.com/assets/colab-badge.svg\" alt=\"Open In Colab\"/></a>"
      ]
    },
    {
      "cell_type": "code",
      "metadata": {
        "colab": {
          "base_uri": "https://localhost:8080/"
        },
        "id": "5vGeHsy9DVF1",
        "outputId": "001664ec-2810-4ad7-f9dc-8d221f980218"
      },
      "source": [
        "!pip install -Uqq fastbook\n",
        "import fastbook\n",
        "#fastbook.setup_book()\n",
        "\n",
        "from fastbook import *\n",
        "from fastai.vision.widgets import *"
      ],
      "execution_count": 2,
      "outputs": [
        {
          "output_type": "stream",
          "text": [
            "\u001b[K     |████████████████████████████████| 727kB 8.4MB/s \n",
            "\u001b[K     |████████████████████████████████| 204kB 30.5MB/s \n",
            "\u001b[K     |████████████████████████████████| 1.2MB 24.9MB/s \n",
            "\u001b[K     |████████████████████████████████| 51kB 5.3MB/s \n",
            "\u001b[K     |████████████████████████████████| 61kB 7.1MB/s \n",
            "\u001b[K     |████████████████████████████████| 51kB 4.9MB/s \n",
            "\u001b[?25hMounted at /content/gdrive\n"
          ],
          "name": "stdout"
        }
      ]
    },
    {
      "cell_type": "code",
      "metadata": {
        "id": "IAOzeS1NDWxJ"
      },
      "source": [
        "path = Path ('/content/gdrive/MyDrive/CARS')"
      ],
      "execution_count": 3,
      "outputs": []
    },
    {
      "cell_type": "code",
      "metadata": {
        "id": "pnTKOcphD0ko"
      },
      "source": [
        "'''item_tfms=Resize(128, ResizeMethod.Squish)\n",
        "item_tfms=Resize(128, ResizeMethod.Pad, pad_mode='zeros')\n",
        "item_tfms=RandomResizedCrop(128, min_scale=0.3)'''"
      ],
      "execution_count": 5,
      "outputs": []
    },
    {
      "cell_type": "code",
      "metadata": {
        "id": "GvBc2u-sD96n"
      },
      "source": [
        "#tfms = aug_transforms(do_flip = True, flip_vert = False, mult=2.0)"
      ],
      "execution_count": 6,
      "outputs": []
    },
    {
      "cell_type": "code",
      "metadata": {
        "id": "jLVewIDKEEyy"
      },
      "source": [
        "#data= ImageDataLoaders.from_folder(path,train = \"train\", valid_pct=0.2, item_tfms=Resize(128), batch_tfms=tfms, bs = 30, num_workers = 4)"
      ],
      "execution_count": 7,
      "outputs": []
    },
    {
      "cell_type": "code",
      "metadata": {
        "id": "qXK8xs-sEHPZ"
      },
      "source": [
        "'''Data = DataBlock( blocks=(ImageBlock, CategoryBlock), get_items=get_image_files, \n",
        "splitter=RandomSplitter(valid_pct=0.2, seed=42), get_y=parent_label, item_tfms=Resize(128))\n",
        "dls = Data.dataloaders(path)'''"
      ],
      "execution_count": 8,
      "outputs": []
    },
    {
      "cell_type": "code",
      "metadata": {
        "colab": {
          "base_uri": "https://localhost:8080/",
          "height": 305,
          "referenced_widgets": [
            "8d69611439264eb3aeaf2ea98f4aa074",
            "9c87c56847034d2dbd0753f687202d23",
            "f58bc0984b63422ba32330a7ea2a1496",
            "bda923059f0e4dc9b481d1f94c697fb3",
            "b3250f8651ed4d20a0fe7e225b092d12",
            "8242c617b7f6485e972b9f899c1c62ff",
            "cbc2f26d05fe4c3cae023fb0cb98b1db",
            "95d706b389ce43528c525280a59f8816"
          ]
        },
        "id": "5F6YZ3RcEJ08",
        "outputId": "45209c09-d2f2-4ea6-9bc3-72c068dfab2c"
      },
      "source": [
        "#learn = cnn_learner(data, resnet34, metrics=error_rate)\n",
        "#learn.fine_tune(4)"
      ],
      "execution_count": 9,
      "outputs": [
        {
          "output_type": "stream",
          "text": [
            "Downloading: \"https://download.pytorch.org/models/resnet34-333f7ec4.pth\" to /root/.cache/torch/hub/checkpoints/resnet34-333f7ec4.pth\n"
          ],
          "name": "stderr"
        },
        {
          "output_type": "display_data",
          "data": {
            "application/vnd.jupyter.widget-view+json": {
              "model_id": "8d69611439264eb3aeaf2ea98f4aa074",
              "version_minor": 0,
              "version_major": 2
            },
            "text/plain": [
              "HBox(children=(FloatProgress(value=0.0, max=87306240.0), HTML(value='')))"
            ]
          },
          "metadata": {
            "tags": []
          }
        },
        {
          "output_type": "stream",
          "text": [
            "\n"
          ],
          "name": "stdout"
        },
        {
          "output_type": "display_data",
          "data": {
            "text/html": [
              "<table border=\"1\" class=\"dataframe\">\n",
              "  <thead>\n",
              "    <tr style=\"text-align: left;\">\n",
              "      <th>epoch</th>\n",
              "      <th>train_loss</th>\n",
              "      <th>valid_loss</th>\n",
              "      <th>error_rate</th>\n",
              "      <th>time</th>\n",
              "    </tr>\n",
              "  </thead>\n",
              "  <tbody>\n",
              "    <tr>\n",
              "      <td>0</td>\n",
              "      <td>1.737593</td>\n",
              "      <td>3.027675</td>\n",
              "      <td>0.611111</td>\n",
              "      <td>00:26</td>\n",
              "    </tr>\n",
              "  </tbody>\n",
              "</table>"
            ],
            "text/plain": [
              "<IPython.core.display.HTML object>"
            ]
          },
          "metadata": {
            "tags": []
          }
        },
        {
          "output_type": "display_data",
          "data": {
            "text/html": [
              "<table border=\"1\" class=\"dataframe\">\n",
              "  <thead>\n",
              "    <tr style=\"text-align: left;\">\n",
              "      <th>epoch</th>\n",
              "      <th>train_loss</th>\n",
              "      <th>valid_loss</th>\n",
              "      <th>error_rate</th>\n",
              "      <th>time</th>\n",
              "    </tr>\n",
              "  </thead>\n",
              "  <tbody>\n",
              "    <tr>\n",
              "      <td>0</td>\n",
              "      <td>1.487812</td>\n",
              "      <td>1.842045</td>\n",
              "      <td>0.555556</td>\n",
              "      <td>00:12</td>\n",
              "    </tr>\n",
              "    <tr>\n",
              "      <td>1</td>\n",
              "      <td>1.350328</td>\n",
              "      <td>0.617026</td>\n",
              "      <td>0.277778</td>\n",
              "      <td>00:12</td>\n",
              "    </tr>\n",
              "    <tr>\n",
              "      <td>2</td>\n",
              "      <td>1.072288</td>\n",
              "      <td>0.237708</td>\n",
              "      <td>0.111111</td>\n",
              "      <td>00:12</td>\n",
              "    </tr>\n",
              "    <tr>\n",
              "      <td>3</td>\n",
              "      <td>0.912495</td>\n",
              "      <td>0.147266</td>\n",
              "      <td>0.055556</td>\n",
              "      <td>00:12</td>\n",
              "    </tr>\n",
              "  </tbody>\n",
              "</table>"
            ],
            "text/plain": [
              "<IPython.core.display.HTML object>"
            ]
          },
          "metadata": {
            "tags": []
          }
        }
      ]
    },
    {
      "cell_type": "code",
      "metadata": {
        "colab": {
          "base_uri": "https://localhost:8080/",
          "height": 311
        },
        "id": "BeiKwEPKEMJ4",
        "outputId": "d83e7e87-64c9-453e-b4e9-551ea66499e0"
      },
      "source": [
        "#interp = ClassificationInterpretation.from_learner(learn)\n",
        "#interp.plot_confusion_matrix()"
      ],
      "execution_count": 10,
      "outputs": [
        {
          "output_type": "display_data",
          "data": {
            "text/html": [
              ""
            ],
            "text/plain": [
              "<IPython.core.display.HTML object>"
            ]
          },
          "metadata": {
            "tags": []
          }
        },
        {
          "output_type": "display_data",
          "data": {
            "image/png": "[encoded data removed]",
            "text/plain": [
              "<Figure size 432x288 with 1 Axes>"
            ]
          },
          "metadata": {
            "tags": [],
            "needs_background": "light"
          }
        }
      ]
    },
    {
      "cell_type": "code",
      "metadata": {
        "id": "dYYp1oABEytl"
      },
      "source": [
        "#learn.export()"
      ],
      "execution_count": 11,
      "outputs": []
    },
    {
      "cell_type": "code",
      "metadata": {
        "id": "0MB2RFYYE8Ep"
      },
      "source": [
        "learn_inf = load_learner(path/'export.pkl')"
      ],
      "execution_count": 12,
      "outputs": []
    },
    {
      "cell_type": "code",
      "metadata": {
        "id": "sNPIY_4VFC4M"
      },
      "source": [
        "from fastai.vision.widgets import *\n",
        "btn_upload = widgets.FileUpload()\n",
        "out_pl = widgets.Output()\n",
        "lbl_pred = widgets.Label()"
      ],
      "execution_count": 14,
      "outputs": []
    },
    {
      "cell_type": "code",
      "metadata": {
        "id": "rL-cuPVlFFZL"
      },
      "source": [
        "def on_data_change(change):\n",
        "    lbl_pred.value = ''\n",
        "    \n",
        "    # Load Image\n",
        "    img = PILImage.create(btn_upload.data[-1])\n",
        "    out_pl.clear_output()\n",
        "    with out_pl:\n",
        "        display(img.to_thumb(224,244))\n",
        "    \n",
        "    # Predict image\n",
        "    pred, pred_idx, probs = learn_inf.predict(img)\n",
        "    \n",
        "    lbl_pred.value = f'Prediction: {pred}; Probability: {probs[pred_idx]:.04f}'"
      ],
      "execution_count": 15,
      "outputs": []
    },
    {
      "cell_type": "code",
      "metadata": {
        "colab": {
          "base_uri": "https://localhost:8080/",
          "height": 296,
          "referenced_widgets": [
            "36a9a3987e6d4fb9aac1a8ff6458fc4f",
            "af51bada10b24dabb3bfc4967d55e92b",
            "1a08ae866c34406886d5fc7b1bcb3fa7",
            "9556b9cc143549529c77f8d838ec9d81",
            "eed48c681d1342b8b4c9cff16122fd7f",
            "db658f45c12840548c012b157b3d6168",
            "87183a3196054101a8048095bcd74274",
            "8670d7eee12849edbfbf3ddbd18391f2",
            "004ec11492774745b8877166bc19e646",
            "396096cadd7d4787bedefb7ddd59c7cb",
            "28e832d3e69f4c798199f52ee4678638",
            "3d74163cb89745f08194ccc83f5c9d0b",
            "eb097842f57d4570b906f04392d2782d"
          ]
        },
        "id": "aX_iokTSFdLA",
        "outputId": "7c2bbfa2-321d-4fff-a44c-54da5f534108"
      },
      "source": [
        "btn_upload.observe(on_data_change, names=['data'])\n",
        "\n",
        "# Display Predictions\n",
        "display(VBox([widgets.Label('Select your car!'), btn_upload, out_pl, lbl_pred]))"
      ],
      "execution_count": 16,
      "outputs": [
        {
          "output_type": "display_data",
          "data": {
            "application/vnd.jupyter.widget-view+json": {
              "model_id": "36a9a3987e6d4fb9aac1a8ff6458fc4f",
              "version_minor": 0,
              "version_major": 2
            },
            "text/plain": [
              "VBox(children=(Label(value='Select your car!'), FileUpload(value={}, description='Upload'), Output(), Label(va…"
            ]
          },
          "metadata": {
            "tags": []
          }
        },
        {
          "output_type": "display_data",
          "data": {
            "text/html": [
              ""
            ],
            "text/plain": [
              "<IPython.core.display.HTML object>"
            ]
          },
          "metadata": {
            "tags": []
          }
        }
      ]
    },
    {
      "cell_type": "code",
      "metadata": {
        "id": "hHGMVR02Fg4M"
      },
      "source": [
        ""
      ],
      "execution_count": null,
      "outputs": []
    }
  ]
}